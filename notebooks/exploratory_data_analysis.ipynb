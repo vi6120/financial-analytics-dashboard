{
 "cells": [
  {
   "cell_type": "markdown",
   "metadata": {},
   "source": [
    "# Financial Data Exploratory Data Analysis\n",
    "\n",
    "This notebook demonstrates comprehensive exploratory data analysis (EDA) for financial data, showcasing data science skills in the finance domain."
   ]
  },
  {
   "cell_type": "code",
   "execution_count": null,
   "metadata": {},
   "outputs": [],
   "source": [
    "# Import required libraries\n",
    "import pandas as pd\n",
    "import numpy as np\n",
    "import matplotlib.pyplot as plt\n",
    "import seaborn as sns\n",
    "import yfinance as yf\n",
    "import plotly.graph_objects as go\n",
    "import plotly.express as px\n",
    "from plotly.subplots import make_subplots\n",
    "import warnings\n",
    "warnings.filterwarnings('ignore')\n",
    "\n",
    "# Set style\n",
    "plt.style.use('seaborn-v0_8')\n",
    "sns.set_palette(\"husl\")"
   ]
  },
  {
   "cell_type": "markdown",
   "metadata": {},
   "source": [
    "## 1. Data Collection and Initial Exploration"
   ]
  },
  {
   "cell_type": "code",
   "execution_count": null,
   "metadata": {},
   "outputs": [],
   "source": [
    "# Define stocks for analysis\n",
    "tickers = ['AAPL', 'GOOGL', 'MSFT', 'TSLA', 'AMZN', 'NVDA', 'META', 'NFLX']\n",
    "period = '2y'\n",
    "\n",
    "# Fetch data\n",
    "stock_data = {}\n",
    "for ticker in tickers:\n",
    "    stock_data[ticker] = yf.Ticker(ticker).history(period=period)\n",
    "    print(f\"Fetched {len(stock_data[ticker])} records for {ticker}\")\n",
    "\n",
    "# Display basic info for AAPL\n",
    "print(\"\\nAAPL Data Shape:\", stock_data['AAPL'].shape)\n",
    "print(\"\\nAAPL Data Info:\")\n",
    "stock_data['AAPL'].info()"
   ]
  },
  {
   "cell_type": "code",
   "execution_count": null,
   "metadata": {},
   "outputs": [],
   "source": [
    "# Display first few rows\n",
    "stock_data['AAPL'].head()"
   ]
  },
  {
   "cell_type": "markdown",
   "metadata": {},
   "source": [
    "## 2. Data Quality Assessment"
   ]
  },
  {
   "cell_type": "code",
   "execution_count": null,
   "metadata": {},
   "outputs": [],
   "source": [
    "# Check for missing values\n",
    "print(\"Missing Values Analysis:\")\n",
    "for ticker in tickers:\n",
    "    missing = stock_data[ticker].isnull().sum()\n",
    "    print(f\"{ticker}: {missing.sum()} total missing values\")\n",
    "    if missing.sum() > 0:\n",
    "        print(missing[missing > 0])\n",
    "    print()"
   ]
  },
  {
   "cell_type": "code",
   "execution_count": null,
   "metadata": {},
   "outputs": [],
   "source": [
    "# Statistical summary\n",
    "print(\"Statistical Summary for AAPL:\")\n",
    "stock_data['AAPL'].describe()"
   ]
  },
  {
   "cell_type": "markdown",
   "metadata": {},
   "source": [
    "## 3. Price Analysis and Visualization"
   ]
  },
  {
   "cell_type": "code",
   "execution_count": null,
   "metadata": {},
   "outputs": [],
   "source": [
    "# Create closing price comparison\n",
    "closing_prices = pd.DataFrame({ticker: stock_data[ticker]['Close'] for ticker in tickers})\n",
    "\n",
    "# Normalize prices for comparison\n",
    "normalized_prices = closing_prices / closing_prices.iloc[0]\n",
    "\n",
    "# Plot normalized prices\n",
    "fig = go.Figure()\n",
    "\n",
    "for ticker in tickers:\n",
    "    fig.add_trace(go.Scatter(\n",
    "        x=normalized_prices.index,\n",
    "        y=normalized_prices[ticker],\n",
    "        mode='lines',\n",
    "        name=ticker,\n",
    "        line=dict(width=2)\n",
    "    ))\n",
    "\n",
    "fig.update_layout(\n",
    "    title='Stock Price Performance Comparison (Normalized)',\n",
    "    xaxis_title='Date',\n",
    "    yaxis_title='Normalized Price',\n",
    "    template='plotly_white',\n",
    "    height=600\n",
    ")\n",
    "\n",
    "fig.show()"
   ]
  },
  {
   "cell_type": "markdown",
   "metadata": {},
   "source": [
    "## 4. Returns Analysis"
   ]
  },
  {
   "cell_type": "code",
   "execution_count": null,
   "metadata": {},
   "outputs": [],
   "source": [
    "# Calculate daily returns\n",
    "returns = closing_prices.pct_change().dropna()\n",
    "\n",
    "# Display returns statistics\n",
    "print(\"Daily Returns Statistics:\")\n",
    "returns_stats = returns.describe()\n",
    "returns_stats"
   ]
  },
  {
   "cell_type": "code",
   "execution_count": null,
   "metadata": {},
   "outputs": [],
   "source": [
    "# Returns distribution visualization\n",
    "fig, axes = plt.subplots(2, 4, figsize=(20, 10))\n",
    "axes = axes.ravel()\n",
    "\n",
    "for i, ticker in enumerate(tickers):\n",
    "    axes[i].hist(returns[ticker], bins=50, alpha=0.7, edgecolor='black')\n",
    "    axes[i].set_title(f'{ticker} Daily Returns Distribution')\n",
    "    axes[i].set_xlabel('Daily Return')\n",
    "    axes[i].set_ylabel('Frequency')\n",
    "    axes[i].axvline(returns[ticker].mean(), color='red', linestyle='--', label='Mean')\n",
    "    axes[i].legend()\n",
    "\n",
    "plt.tight_layout()\n",
    "plt.show()"
   ]
  },
  {
   "cell_type": "markdown",
   "metadata": {},
   "source": [
    "## 5. Volatility Analysis"
   ]
  },
  {
   "cell_type": "code",
   "execution_count": null,
   "metadata": {},
   "outputs": [],
   "source": [
    "# Calculate rolling volatility\n",
    "volatility_window = 30\n",
    "rolling_volatility = returns.rolling(window=volatility_window).std() * np.sqrt(252)\n",
    "\n",
    "# Plot rolling volatility\n",
    "fig = go.Figure()\n",
    "\n",
    "for ticker in tickers:\n",
    "    fig.add_trace(go.Scatter(\n",
    "        x=rolling_volatility.index,\n",
    "        y=rolling_volatility[ticker],\n",
    "        mode='lines',\n",
    "        name=ticker\n",
    "    ))\n",
    "\n",
    "fig.update_layout(\n",
    "    title=f'{volatility_window}-Day Rolling Volatility (Annualized)',\n",
    "    xaxis_title='Date',\n",
    "    yaxis_title='Volatility',\n",
    "    template='plotly_white',\n",
    "    height=500\n",
    ")\n",
    "\n",
    "fig.show()"
   ]
  },
  {
   "cell_type": "markdown",
   "metadata": {},
   "source": [
    "## 6. Correlation Analysis"
   ]
  },
  {
   "cell_type": "code",
   "execution_count": null,
   "metadata": {},
   "outputs": [],
   "source": [
    "# Calculate correlation matrix\n",
    "correlation_matrix = returns.corr()\n",
    "\n",
    "# Create correlation heatmap\n",
    "plt.figure(figsize=(10, 8))\n",
    "sns.heatmap(correlation_matrix, \n",
    "            annot=True, \n",
    "            cmap='coolwarm', \n",
    "            center=0,\n",
    "            square=True,\n",
    "            fmt='.3f')\n",
    "plt.title('Stock Returns Correlation Matrix')\n",
    "plt.tight_layout()\n",
    "plt.show()\n",
    "\n",
    "print(\"\\nHighest Correlations:\")\n",
    "# Get upper triangle of correlation matrix\n",
    "upper_tri = correlation_matrix.where(np.triu(np.ones(correlation_matrix.shape), k=1).astype(bool))\n",
    "correlations = upper_tri.stack().sort_values(ascending=False)\n",
    "print(correlations.head(10))"
   ]
  },
  {
   "cell_type": "markdown",
   "metadata": {},
   "source": [
    "## 7. Volume Analysis"
   ]
  },
  {
   "cell_type": "code",
   "execution_count": null,
   "metadata": {},
   "outputs": [],
   "source": [
    "# Volume analysis\n",
    "volumes = pd.DataFrame({ticker: stock_data[ticker]['Volume'] for ticker in tickers})\n",
    "\n",
    "# Average daily volume\n",
    "avg_volumes = volumes.mean().sort_values(ascending=False)\n",
    "\n",
    "# Plot average volumes\n",
    "fig = go.Figure(data=[go.Bar(\n",
    "    x=avg_volumes.index,\n",
    "    y=avg_volumes.values,\n",
    "    marker_color='lightblue'\n",
    ")])\n",
    "\n",
    "fig.update_layout(\n",
    "    title='Average Daily Trading Volume',\n",
    "    xaxis_title='Stock',\n",
    "    yaxis_title='Volume',\n",
    "    template='plotly_white'\n",
    ")\n",
    "\n",
    "fig.show()\n",
    "\n",
    "print(\"Average Daily Volumes:\")\n",
    "for ticker, volume in avg_volumes.items():\n",
    "    print(f\"{ticker}: {volume:,.0f}\")"
   ]
  },
  {
   "cell_type": "markdown",
   "metadata": {},
   "source": [
    "## 8. Risk-Return Analysis"
   ]
  },
  {
   "cell_type": "code",
   "execution_count": null,
   "metadata": {},
   "outputs": [],
   "source": [
    "# Calculate annualized returns and volatility\n",
    "annual_returns = returns.mean() * 252\n",
    "annual_volatility = returns.std() * np.sqrt(252)\n",
    "\n",
    "# Create risk-return scatter plot\n",
    "fig = go.Figure()\n",
    "\n",
    "fig.add_trace(go.Scatter(\n",
    "    x=annual_volatility,\n",
    "    y=annual_returns,\n",
    "    mode='markers+text',\n",
    "    text=tickers,\n",
    "    textposition='top center',\n",
    "    marker=dict(size=12, color='blue'),\n",
    "    name='Stocks'\n",
    "))\n",
    "\n",
    "fig.update_layout(\n",
    "    title='Risk-Return Profile',\n",
    "    xaxis_title='Annualized Volatility',\n",
    "    yaxis_title='Annualized Return',\n",
    "    template='plotly_white',\n",
    "    height=500\n",
    ")\n",
    "\n",
    "fig.show()\n",
    "\n",
    "# Display risk-return metrics\n",
    "risk_return_df = pd.DataFrame({\n",
    "    'Annual Return': annual_returns,\n",
    "    'Annual Volatility': annual_volatility,\n",
    "    'Sharpe Ratio': annual_returns / annual_volatility\n",
    "}).sort_values('Sharpe Ratio', ascending=False)\n",
    "\n",
    "print(\"\\nRisk-Return Metrics:\")\n",
    "risk_return_df"
   ]
  },
  {
   "cell_type": "markdown",
   "metadata": {},
   "source": [
    "## 9. Technical Analysis"
   ]
  },
  {
   "cell_type": "code",
   "execution_count": null,
   "metadata": {},
   "outputs": [],
   "source": [
    "# Technical analysis for AAPL\n",
    "aapl_data = stock_data['AAPL'].copy()\n",
    "\n",
    "# Calculate moving averages\n",
    "aapl_data['MA_20'] = aapl_data['Close'].rolling(window=20).mean()\n",
    "aapl_data['MA_50'] = aapl_data['Close'].rolling(window=50).mean()\n",
    "aapl_data['MA_200'] = aapl_data['Close'].rolling(window=200).mean()\n",
    "\n",
    "# Calculate RSI\n",
    "def calculate_rsi(prices, window=14):\n",
    "    delta = prices.diff()\n",
    "    gain = (delta.where(delta > 0, 0)).rolling(window=window).mean()\n",
    "    loss = (-delta.where(delta < 0, 0)).rolling(window=window).mean()\n",
    "    rs = gain / loss\n",
    "    return 100 - (100 / (1 + rs))\n",
    "\n",
    "aapl_data['RSI'] = calculate_rsi(aapl_data['Close'])\n",
    "\n",
    "# Create technical analysis chart\n",
    "fig = make_subplots(\n",
    "    rows=3, cols=1,\n",
    "    subplot_titles=('Price with Moving Averages', 'Volume', 'RSI'),\n",
    "    vertical_spacing=0.1,\n",
    "    row_heights=[0.6, 0.2, 0.2]\n",
    ")\n",
    "\n",
    "# Price and moving averages\n",
    "fig.add_trace(go.Scatter(x=aapl_data.index, y=aapl_data['Close'], name='Close', line=dict(color='black')), row=1, col=1)\n",
    "fig.add_trace(go.Scatter(x=aapl_data.index, y=aapl_data['MA_20'], name='MA 20', line=dict(color='orange')), row=1, col=1)\n",
    "fig.add_trace(go.Scatter(x=aapl_data.index, y=aapl_data['MA_50'], name='MA 50', line=dict(color='blue')), row=1, col=1)\n",
    "fig.add_trace(go.Scatter(x=aapl_data.index, y=aapl_data['MA_200'], name='MA 200', line=dict(color='red')), row=1, col=1)\n",
    "\n",
    "# Volume\n",
    "fig.add_trace(go.Bar(x=aapl_data.index, y=aapl_data['Volume'], name='Volume', marker_color='lightblue'), row=2, col=1)\n",
    "\n",
    "# RSI\n",
    "fig.add_trace(go.Scatter(x=aapl_data.index, y=aapl_data['RSI'], name='RSI', line=dict(color='purple')), row=3, col=1)\n",
    "fig.add_hline(y=70, line_dash=\"dash\", line_color=\"red\", row=3, col=1)\n",
    "fig.add_hline(y=30, line_dash=\"dash\", line_color=\"green\", row=3, col=1)\n",
    "\n",
    "fig.update_layout(\n",
    "    title='AAPL Technical Analysis',\n",
    "    template='plotly_white',\n",
    "    height=800\n",
    ")\n",
    "\n",
    "fig.show()"
   ]
  },
  {
   "cell_type": "markdown",
   "metadata": {},
   "source": [
    "## 10. Key Insights and Conclusions"
   ]
  },
  {
   "cell_type": "code",
   "execution_count": null,
   "metadata": {},
   "outputs": [],
   "source": [
    "# Summary statistics\n",
    "print(\"=== FINANCIAL DATA ANALYSIS SUMMARY ===\")\n",
    "print(f\"\\nAnalysis Period: {period}\")\n",
    "print(f\"Number of Stocks: {len(tickers)}\")\n",
    "print(f\"Total Trading Days: {len(closing_prices)}\")\n",
    "\n",
    "print(\"\\n=== PERFORMANCE RANKINGS ===\")\n",
    "total_returns = (closing_prices.iloc[-1] / closing_prices.iloc[0] - 1) * 100\n",
    "performance_ranking = total_returns.sort_values(ascending=False)\n",
    "\n",
    "print(\"\\nTotal Returns Ranking:\")\n",
    "for i, (ticker, return_pct) in enumerate(performance_ranking.items(), 1):\n",
    "    print(f\"{i}. {ticker}: {return_pct:.2f}%\")\n",
    "\n",
    "print(\"\\n=== RISK ANALYSIS ===\")\n",
    "volatility_ranking = annual_volatility.sort_values()\n",
    "print(\"\\nVolatility Ranking (Low to High):\")\n",
    "for i, (ticker, vol) in enumerate(volatility_ranking.items(), 1):\n",
    "    print(f\"{i}. {ticker}: {vol:.2f}%\")\n",
    "\n",
    "print(\"\\n=== SHARPE RATIO RANKING ===\")\n",
    "sharpe_ranking = risk_return_df['Sharpe Ratio'].sort_values(ascending=False)\n",
    "print(\"\\nSharpe Ratio Ranking:\")\n",
    "for i, (ticker, sharpe) in enumerate(sharpe_ranking.items(), 1):\n",
    "    print(f\"{i}. {ticker}: {sharpe:.3f}\")\n",
    "\n",
    "print(\"\\n=== KEY INSIGHTS ===\")\n",
    "print(f\"• Best Performer: {performance_ranking.index[0]} (+{performance_ranking.iloc[0]:.2f}%)\")\n",
    "print(f\"• Worst Performer: {performance_ranking.index[-1]} ({performance_ranking.iloc[-1]:.2f}%)\")\n",
    "print(f\"• Least Volatile: {volatility_ranking.index[0]} ({volatility_ranking.iloc[0]:.2f}% volatility)\")\n",
    "print(f\"• Most Volatile: {volatility_ranking.index[-1]} ({volatility_ranking.iloc[-1]:.2f}% volatility)\")\n",
    "print(f\"• Best Risk-Adjusted Return: {sharpe_ranking.index[0]} (Sharpe: {sharpe_ranking.iloc[0]:.3f})\")\n",
    "print(f\"• Average Correlation: {correlation_matrix.values[np.triu_indices_from(correlation_matrix.values, k=1)].mean():.3f}\")"
   ]
  }
 ],
 "metadata": {
  "kernelspec": {
   "display_name": "Python 3",
   "language": "python",
   "name": "python3"
  },
  "language_info": {
   "codemirror_mode": {
    "name": "ipython",
    "version": 3
   },
   "file_extension": ".py",
   "mimetype": "text/x-python",
   "name": "python",
   "nbconvert_exporter": "python",
   "pygments_lexer": "ipython3",
   "version": "3.8.5"
  }
 },
 "nbformat": 4,
 "nbformat_minor": 4
}